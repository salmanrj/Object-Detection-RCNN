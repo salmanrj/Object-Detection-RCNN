{
  "nbformat": 4,
  "nbformat_minor": 0,
  "metadata": {
    "colab": {
      "name": "Dataa.ipynb",
      "provenance": [],
      "toc_visible": true
    },
    "kernelspec": {
      "name": "python3",
      "display_name": "Python 3"
    },
    "language_info": {
      "name": "python"
    }
  },
  "cells": [
    {
      "cell_type": "markdown",
      "metadata": {
        "id": "EYp9VP1egfDj"
      },
      "source": [
        "# **Identitas Mahasiswa**"
      ]
    },
    {
      "cell_type": "markdown",
      "metadata": {
        "id": "Nn6-MeKvgif1"
      },
      "source": [
        "**Salman Rahwidean Janotama** || **18/428633/TK/47135**\n",
        "\n",
        "---\n",
        "\n",
        "**Object Detection - Self-Driving Car**"
      ]
    },
    {
      "cell_type": "markdown",
      "metadata": {
        "id": "c_ttE4pTfg3R"
      },
      "source": [
        "# **Data Acquisition**"
      ]
    },
    {
      "cell_type": "markdown",
      "metadata": {
        "id": "w-mD4GnofLJB"
      },
      "source": [
        "## **Connect Google Drive**"
      ]
    },
    {
      "cell_type": "code",
      "metadata": {
        "colab": {
          "base_uri": "https://localhost:8080/"
        },
        "id": "ixqFNxB2mWvg",
        "outputId": "f0f11767-02f9-466f-be26-6f3c7476c15a"
      },
      "source": [
        "from google.colab import drive\n",
        "drive.mount('/content/gdrive')"
      ],
      "execution_count": null,
      "outputs": [
        {
          "output_type": "stream",
          "text": [
            "Mounted at /content/gdrive\n"
          ],
          "name": "stdout"
        }
      ]
    },
    {
      "cell_type": "code",
      "metadata": {
        "colab": {
          "base_uri": "https://localhost:8080/"
        },
        "id": "9PqB0_ycmbNL",
        "outputId": "5f3f7377-a42d-4961-f67e-57b75018c6fa"
      },
      "source": [
        "%cd '/content/gdrive/MyDrive/datasett'"
      ],
      "execution_count": null,
      "outputs": [
        {
          "output_type": "stream",
          "text": [
            "/content/gdrive/MyDrive/datasett\n"
          ],
          "name": "stdout"
        }
      ]
    },
    {
      "cell_type": "markdown",
      "metadata": {
        "id": "mavcS90JfQ7J"
      },
      "source": [
        "## **Tools untuk Download Dataset dari Open Image**"
      ]
    },
    {
      "cell_type": "code",
      "metadata": {
        "colab": {
          "base_uri": "https://localhost:8080/"
        },
        "id": "HlteMeR6moKU",
        "outputId": "945e0a58-d761-43f4-cc34-1f71ca9fb94e"
      },
      "source": [
        "!git clone https://github.com/EscVM/OIDv4_ToolKit.git"
      ],
      "execution_count": null,
      "outputs": [
        {
          "output_type": "stream",
          "text": [
            "Cloning into 'OIDv4_ToolKit'...\n",
            "remote: Enumerating objects: 422, done.\u001b[K\n",
            "remote: Total 422 (delta 0), reused 0 (delta 0), pack-reused 422\u001b[K\n",
            "Receiving objects: 100% (422/422), 34.08 MiB | 10.86 MiB/s, done.\n",
            "Resolving deltas: 100% (146/146), done.\n"
          ],
          "name": "stdout"
        }
      ]
    },
    {
      "cell_type": "code",
      "metadata": {
        "colab": {
          "base_uri": "https://localhost:8080/"
        },
        "id": "ILfYhY1jmyeT",
        "outputId": "69029628-f079-47df-ae06-a88cb148aee0"
      },
      "source": [
        "%cd OIDv4_ToolKit/"
      ],
      "execution_count": null,
      "outputs": [
        {
          "output_type": "stream",
          "text": [
            "/content/gdrive/My Drive/datasett/OIDv4_ToolKit\n"
          ],
          "name": "stdout"
        }
      ]
    },
    {
      "cell_type": "code",
      "metadata": {
        "colab": {
          "base_uri": "https://localhost:8080/"
        },
        "id": "70eTrLU1m2zq",
        "outputId": "222c6c7d-676f-4722-8742-bfc6b3e2d886"
      },
      "source": [
        "!pip3 install -r requirements.txt"
      ],
      "execution_count": null,
      "outputs": [
        {
          "output_type": "stream",
          "text": [
            "Requirement already satisfied: pandas in /usr/local/lib/python3.7/dist-packages (from -r requirements.txt (line 1)) (1.1.5)\n",
            "Requirement already satisfied: numpy in /usr/local/lib/python3.7/dist-packages (from -r requirements.txt (line 2)) (1.19.5)\n",
            "Collecting awscli\n",
            "\u001b[?25l  Downloading https://files.pythonhosted.org/packages/2e/9e/6904ba07fe1f8e88458389424e546ed941a3992141abe73f8bf425ef66a3/awscli-1.19.42-py2.py3-none-any.whl (3.6MB)\n",
            "\u001b[K     |████████████████████████████████| 3.6MB 4.2MB/s \n",
            "\u001b[?25hRequirement already satisfied: urllib3 in /usr/local/lib/python3.7/dist-packages (from -r requirements.txt (line 5)) (1.24.3)\n",
            "Requirement already satisfied: tqdm in /usr/local/lib/python3.7/dist-packages (from -r requirements.txt (line 7)) (4.41.1)\n",
            "Requirement already satisfied: opencv-python in /usr/local/lib/python3.7/dist-packages (from -r requirements.txt (line 9)) (4.1.2.30)\n",
            "Requirement already satisfied: python-dateutil>=2.7.3 in /usr/local/lib/python3.7/dist-packages (from pandas->-r requirements.txt (line 1)) (2.8.1)\n",
            "Requirement already satisfied: pytz>=2017.2 in /usr/local/lib/python3.7/dist-packages (from pandas->-r requirements.txt (line 1)) (2018.9)\n",
            "Requirement already satisfied: PyYAML<5.5,>=3.10 in /usr/local/lib/python3.7/dist-packages (from awscli->-r requirements.txt (line 3)) (3.13)\n",
            "Collecting colorama<0.4.4,>=0.2.5\n",
            "  Downloading https://files.pythonhosted.org/packages/c9/dc/45cdef1b4d119eb96316b3117e6d5708a08029992b2fee2c143c7a0a5cc5/colorama-0.4.3-py2.py3-none-any.whl\n",
            "Requirement already satisfied: rsa<4.8,>=3.1.2; python_version > \"2.7\" in /usr/local/lib/python3.7/dist-packages (from awscli->-r requirements.txt (line 3)) (4.7.2)\n",
            "Collecting botocore==1.20.42\n",
            "\u001b[?25l  Downloading https://files.pythonhosted.org/packages/00/bc/53cbcc88c72f014f199bc2b8a12af1d5c234eee6a372b2765a7e4086a752/botocore-1.20.42-py2.py3-none-any.whl (7.4MB)\n",
            "\u001b[K     |████████████████████████████████| 7.4MB 27.0MB/s \n",
            "\u001b[?25hCollecting s3transfer<0.4.0,>=0.3.0\n",
            "\u001b[?25l  Downloading https://files.pythonhosted.org/packages/98/14/0b4be62b65c52d6d1c442f24e02d2a9889a73d3c352002e14c70f84a679f/s3transfer-0.3.6-py2.py3-none-any.whl (73kB)\n",
            "\u001b[K     |████████████████████████████████| 81kB 7.7MB/s \n",
            "\u001b[?25hCollecting docutils<0.16,>=0.10\n",
            "\u001b[?25l  Downloading https://files.pythonhosted.org/packages/22/cd/a6aa959dca619918ccb55023b4cb151949c64d4d5d55b3f4ffd7eee0c6e8/docutils-0.15.2-py3-none-any.whl (547kB)\n",
            "\u001b[K     |████████████████████████████████| 552kB 34.8MB/s \n",
            "\u001b[?25hRequirement already satisfied: six>=1.5 in /usr/local/lib/python3.7/dist-packages (from python-dateutil>=2.7.3->pandas->-r requirements.txt (line 1)) (1.15.0)\n",
            "Requirement already satisfied: pyasn1>=0.1.3 in /usr/local/lib/python3.7/dist-packages (from rsa<4.8,>=3.1.2; python_version > \"2.7\"->awscli->-r requirements.txt (line 3)) (0.4.8)\n",
            "Collecting jmespath<1.0.0,>=0.7.1\n",
            "  Downloading https://files.pythonhosted.org/packages/07/cb/5f001272b6faeb23c1c9e0acc04d48eaaf5c862c17709d20e3469c6e0139/jmespath-0.10.0-py2.py3-none-any.whl\n",
            "\u001b[31mERROR: datascience 0.10.6 has requirement folium==0.2.1, but you'll have folium 0.8.3 which is incompatible.\u001b[0m\n",
            "\u001b[31mERROR: botocore 1.20.42 has requirement urllib3<1.27,>=1.25.4, but you'll have urllib3 1.24.3 which is incompatible.\u001b[0m\n",
            "Installing collected packages: colorama, jmespath, botocore, s3transfer, docutils, awscli\n",
            "  Found existing installation: docutils 0.16\n",
            "    Uninstalling docutils-0.16:\n",
            "      Successfully uninstalled docutils-0.16\n",
            "Successfully installed awscli-1.19.42 botocore-1.20.42 colorama-0.4.3 docutils-0.15.2 jmespath-0.10.0 s3transfer-0.3.6\n"
          ],
          "name": "stdout"
        }
      ]
    },
    {
      "cell_type": "markdown",
      "metadata": {
        "id": "EE6Cdhm_fYjk"
      },
      "source": [
        "## **Proses Download**"
      ]
    },
    {
      "cell_type": "code",
      "metadata": {
        "colab": {
          "base_uri": "https://localhost:8080/"
        },
        "id": "X-jzu_zPm3vX",
        "outputId": "6d653446-9a74-441b-e6a3-bee099e419cf"
      },
      "source": [
        "!python3 main.py downloader --classes Person Motorcycle Car Traffic_light --type_csv train --limit 50"
      ],
      "execution_count": null,
      "outputs": [
        {
          "output_type": "stream",
          "text": [
            "\u001b[92m\n",
            "\t\t   ___   _____  ______            _    _    \n",
            "\t\t .'   `.|_   _||_   _ `.         | |  | |   \n",
            "\t\t/  .-.  \\ | |    | | `. \\ _   __ | |__| |_  \n",
            "\t\t| |   | | | |    | |  | |[ \\ [  ]|____   _| \n",
            "\t\t\\  `-'  /_| |_  _| |_.' / \\ \\/ /     _| |_  \n",
            "\t\t `.___.'|_____||______.'   \\__/     |_____|\n",
            "\t\u001b[0m\n",
            "\u001b[92m\n",
            "             _____                    _                 _             \n",
            "            (____ \\                  | |               | |            \n",
            "             _   \\ \\ ___  _ _ _ ____ | | ___   ____  _ | | ____  ____ \n",
            "            | |   | / _ \\| | | |  _ \\| |/ _ \\ / _  |/ || |/ _  )/ ___)\n",
            "            | |__/ / |_| | | | | | | | | |_| ( ( | ( (_| ( (/ /| |    \n",
            "            |_____/ \\___/ \\____|_| |_|_|\\___/ \\_||_|\\____|\\____)_|    \n",
            "                                                          \n",
            "        \u001b[0m\n",
            "    [INFO] | Downloading Person.\u001b[0m\n",
            "\u001b[91m   [ERROR] | Missing the class-descriptions-boxable.csv file.\u001b[0m\n",
            "\u001b[94m[DOWNLOAD] | Do you want to download the missing file? [Y/n] \u001b[0mY\n",
            "...145%, 0 MB, 44977 KB/s, 0 seconds passed\n",
            "\u001b[94m[DOWNLOAD] | File class-descriptions-boxable.csv downloaded into OID/csv_folder/class-descriptions-boxable.csv.\u001b[0m\n",
            "\u001b[91m   [ERROR] | Missing the train-annotations-bbox.csv file.\u001b[0m\n",
            "\u001b[94m[DOWNLOAD] | Do you want to download the missing file? [Y/n] \u001b[0mY\n",
            "...100%, 1138 MB, 19586 KB/s, 59 seconds passed\n",
            "\u001b[94m[DOWNLOAD] | File train-annotations-bbox.csv downloaded into OID/csv_folder/train-annotations-bbox.csv.\u001b[0m\n",
            "\n",
            "\u001b[95mPerson\u001b[0m\n",
            "    [INFO] | Downloading train images.\u001b[0m\n",
            "    [INFO] | [INFO] Found 248384 online images for train.\u001b[0m\n",
            "    [INFO] | Limiting to 50 images.\u001b[0m\n",
            "    [INFO] | Download of 50 images in train.\u001b[0m\n",
            "100% 50/50 [00:40<00:00,  1.23it/s]\n",
            "    [INFO] | Done!\u001b[0m\n",
            "    [INFO] | Creating labels for Person of train.\u001b[0m\n",
            "    [INFO] | Labels creation completed.\u001b[0m\n",
            "    [INFO] | Downloading Motorcycle.\u001b[0m\n",
            "\n",
            "\u001b[95mMotorcycle\u001b[0m\n",
            "    [INFO] | Downloading train images.\u001b[0m\n",
            "    [INFO] | [INFO] Found 6944 online images for train.\u001b[0m\n",
            "    [INFO] | Limiting to 50 images.\u001b[0m\n",
            "    [INFO] | Download of 50 images in train.\u001b[0m\n",
            "100% 50/50 [00:39<00:00,  1.27it/s]\n",
            "    [INFO] | Done!\u001b[0m\n",
            "    [INFO] | Creating labels for Motorcycle of train.\u001b[0m\n",
            "    [INFO] | Labels creation completed.\u001b[0m\n",
            "    [INFO] | Downloading Car.\u001b[0m\n",
            "\n",
            "\u001b[95mCar\u001b[0m\n",
            "    [INFO] | Downloading train images.\u001b[0m\n",
            "    [INFO] | [INFO] Found 89465 online images for train.\u001b[0m\n",
            "    [INFO] | Limiting to 50 images.\u001b[0m\n",
            "    [INFO] | Download of 50 images in train.\u001b[0m\n",
            "100% 50/50 [00:39<00:00,  1.28it/s]\n",
            "    [INFO] | Done!\u001b[0m\n",
            "    [INFO] | Creating labels for Car of train.\u001b[0m\n",
            "    [INFO] | Labels creation completed.\u001b[0m\n",
            "    [INFO] | Downloading Traffic light.\u001b[0m\n",
            "\n",
            "\u001b[95mTraffic light\u001b[0m\n",
            "    [INFO] | Downloading train images.\u001b[0m\n",
            "    [INFO] | [INFO] Found 1774 online images for train.\u001b[0m\n",
            "    [INFO] | Limiting to 50 images.\u001b[0m\n",
            "    [INFO] | Download of 50 images in train.\u001b[0m\n",
            "100% 50/50 [00:42<00:00,  1.18it/s]\n",
            "    [INFO] | Done!\u001b[0m\n",
            "    [INFO] | Creating labels for Traffic light of train.\u001b[0m\n",
            "    [INFO] | Labels creation completed.\u001b[0m\n"
          ],
          "name": "stdout"
        }
      ]
    },
    {
      "cell_type": "markdown",
      "metadata": {
        "id": "AQ_eAlpcgTAT"
      },
      "source": [
        "# **Preprocessing Data**"
      ]
    },
    {
      "cell_type": "markdown",
      "metadata": {
        "id": "8j6camj1fniV"
      },
      "source": [
        "## **Tools untuk merubah format dari *.txt menjadi *.xml**"
      ]
    },
    {
      "cell_type": "code",
      "metadata": {
        "colab": {
          "base_uri": "https://localhost:8080/"
        },
        "id": "EP5eHMIKnJTQ",
        "outputId": "3fff476c-6556-4ca8-c348-bb93e4a0ad82"
      },
      "source": [
        "!git clone https://github.com/AtriSaxena/OIDv4_to_VOC.git"
      ],
      "execution_count": null,
      "outputs": [
        {
          "output_type": "stream",
          "text": [
            "Cloning into 'OIDv4_to_VOC'...\n",
            "remote: Enumerating objects: 12, done.\u001b[K\n",
            "remote: Counting objects: 100% (12/12), done.\u001b[K\n",
            "remote: Compressing objects: 100% (9/9), done.\u001b[K\n",
            "remote: Total 26 (delta 3), reused 5 (delta 1), pack-reused 14\u001b[K\n",
            "Unpacking objects: 100% (26/26), done.\n"
          ],
          "name": "stdout"
        }
      ]
    },
    {
      "cell_type": "code",
      "metadata": {
        "colab": {
          "base_uri": "https://localhost:8080/"
        },
        "id": "IxGlfZjGp2Xv",
        "outputId": "4b76bc56-4b5a-407a-aa3c-c0f865cd7447"
      },
      "source": [
        "%cd .."
      ],
      "execution_count": null,
      "outputs": [
        {
          "output_type": "stream",
          "text": [
            "/content/gdrive/My Drive/datasett\n"
          ],
          "name": "stdout"
        }
      ]
    },
    {
      "cell_type": "code",
      "metadata": {
        "colab": {
          "base_uri": "https://localhost:8080/"
        },
        "id": "ECcw8gC6p4Un",
        "outputId": "fcba3f32-0fa0-4377-f877-91302d063067"
      },
      "source": [
        "!git clone https://github.com/AtriSaxena/OIDv4_to_VOC.git"
      ],
      "execution_count": null,
      "outputs": [
        {
          "output_type": "stream",
          "text": [
            "Cloning into 'OIDv4_to_VOC'...\n",
            "remote: Enumerating objects: 12, done.\u001b[K\n",
            "remote: Counting objects: 100% (12/12), done.\u001b[K\n",
            "remote: Compressing objects: 100% (9/9), done.\u001b[K\n",
            "remote: Total 26 (delta 3), reused 5 (delta 1), pack-reused 14\u001b[K\n",
            "Unpacking objects: 100% (26/26), done.\n"
          ],
          "name": "stdout"
        }
      ]
    },
    {
      "cell_type": "code",
      "metadata": {
        "colab": {
          "base_uri": "https://localhost:8080/"
        },
        "id": "AxSsP3juqBt0",
        "outputId": "48e30122-1425-423e-bc61-80d0fd9c2986"
      },
      "source": [
        "%cd /content/gdrive/MyDrive/datasett/OIDv4_to_VOC"
      ],
      "execution_count": null,
      "outputs": [
        {
          "output_type": "stream",
          "text": [
            "/content/gdrive/MyDrive/datasett/OIDv4_to_VOC\n"
          ],
          "name": "stdout"
        }
      ]
    },
    {
      "cell_type": "code",
      "metadata": {
        "colab": {
          "base_uri": "https://localhost:8080/",
          "height": 221
        },
        "id": "02jjXdzYqIai",
        "outputId": "0098b6db-40f8-4588-a25f-c3b6da7eb56c"
      },
      "source": [
        "!pip3 install -r requirements.txt"
      ],
      "execution_count": null,
      "outputs": [
        {
          "output_type": "stream",
          "text": [
            "Requirement already satisfied: opencv-python in /usr/local/lib/python3.7/dist-packages (from -r requirements.txt (line 1)) (4.1.2.30)\n",
            "Requirement already satisfied: pathlib in /usr/local/lib/python3.7/dist-packages (from -r requirements.txt (line 2)) (1.0.1)\n",
            "Collecting argparse\n",
            "  Downloading https://files.pythonhosted.org/packages/f2/94/3af39d34be01a24a6e65433d19e107099374224905f1e0cc6bbe1fd22a2f/argparse-1.4.0-py2.py3-none-any.whl\n",
            "Requirement already satisfied: numpy>=1.14.5 in /usr/local/lib/python3.7/dist-packages (from opencv-python->-r requirements.txt (line 1)) (1.19.5)\n",
            "Installing collected packages: argparse\n",
            "Successfully installed argparse-1.4.0\n"
          ],
          "name": "stdout"
        },
        {
          "output_type": "display_data",
          "data": {
            "application/vnd.colab-display-data+json": {
              "pip_warning": {
                "packages": [
                  "argparse"
                ]
              }
            }
          },
          "metadata": {
            "tags": []
          }
        }
      ]
    },
    {
      "cell_type": "code",
      "metadata": {
        "colab": {
          "base_uri": "https://localhost:8080/"
        },
        "id": "-Ljtv4Pbqdz4",
        "outputId": "946c674a-8c9e-4060-ba42-c3f34e707d4d"
      },
      "source": [
        "%cd /content/gdrive/MyDrive/datasett/OIDv4_to_VOC"
      ],
      "execution_count": null,
      "outputs": [
        {
          "output_type": "stream",
          "text": [
            "/content/gdrive/MyDrive/datasett/OIDv4_to_VOC\n"
          ],
          "name": "stdout"
        }
      ]
    },
    {
      "cell_type": "code",
      "metadata": {
        "colab": {
          "base_uri": "https://localhost:8080/"
        },
        "id": "m5rPl8iiqhSW",
        "outputId": "aca1d786-338b-434f-8747-cd2c8cb1d745"
      },
      "source": [
        "!pip3 install -r requirements.txt"
      ],
      "execution_count": null,
      "outputs": [
        {
          "output_type": "stream",
          "text": [
            "Requirement already satisfied: opencv-python in /usr/local/lib/python3.7/dist-packages (from -r requirements.txt (line 1)) (4.1.2.30)\n",
            "Requirement already satisfied: pathlib in /usr/local/lib/python3.7/dist-packages (from -r requirements.txt (line 2)) (1.0.1)\n",
            "Requirement already satisfied: argparse in /usr/local/lib/python3.7/dist-packages (from -r requirements.txt (line 3)) (1.4.0)\n",
            "Requirement already satisfied: numpy>=1.14.5 in /usr/local/lib/python3.7/dist-packages (from opencv-python->-r requirements.txt (line 1)) (1.19.5)\n"
          ],
          "name": "stdout"
        }
      ]
    },
    {
      "cell_type": "code",
      "metadata": {
        "colab": {
          "base_uri": "https://localhost:8080/"
        },
        "id": "ZlTTJ2x_rGYE",
        "outputId": "a79176bb-72c1-48f9-80b1-79791a9b8c24"
      },
      "source": [
        "%cd .."
      ],
      "execution_count": null,
      "outputs": [
        {
          "output_type": "stream",
          "text": [
            "/content/gdrive/My Drive/datasett\n"
          ],
          "name": "stdout"
        }
      ]
    },
    {
      "cell_type": "code",
      "metadata": {
        "id": "kGtu01u6rJTY"
      },
      "source": [
        "!mkdir data_train"
      ],
      "execution_count": null,
      "outputs": []
    },
    {
      "cell_type": "code",
      "metadata": {
        "colab": {
          "base_uri": "https://localhost:8080/"
        },
        "id": "J5O2EHLhrOGU",
        "outputId": "3d39712b-c868-4edd-e12e-0e37bd22d3b5"
      },
      "source": [
        "%cd OIDv4_to_VOC/"
      ],
      "execution_count": null,
      "outputs": [
        {
          "output_type": "stream",
          "text": [
            "/content/gdrive/My Drive/datasett/OIDv4_to_VOC\n"
          ],
          "name": "stdout"
        }
      ]
    },
    {
      "cell_type": "code",
      "metadata": {
        "id": "B2NXnnFKrTUO"
      },
      "source": [
        "!python3 OIDv4_to_VOC.py --sourcepath /content/gdrive/MyDrive/datasett/OIDv4_ToolKit/OID/Dataset/train/Car --dest_path /content/gdrive/MyDrive/datasett/data_train"
      ],
      "execution_count": null,
      "outputs": []
    },
    {
      "cell_type": "code",
      "metadata": {
        "id": "yThSaX91rVSp"
      },
      "source": [
        "!python3 OIDv4_to_VOC.py --sourcepath /content/gdrive/MyDrive/datasett/OIDv4_ToolKit/OID/Dataset/train/Person --dest_path /content/gdrive/MyDrive/datasett/data_train"
      ],
      "execution_count": null,
      "outputs": []
    },
    {
      "cell_type": "code",
      "metadata": {
        "id": "VDUOeb0brqn3"
      },
      "source": [
        "!python3 OIDv4_to_VOC.py --sourcepath /content/gdrive/MyDrive/datasett/OIDv4_ToolKit/OID/Dataset/train/Motorcycle --dest_path /content/gdrive/MyDrive/datasett/data_train"
      ],
      "execution_count": null,
      "outputs": []
    },
    {
      "cell_type": "markdown",
      "metadata": {
        "id": "fNDXQrzqf9m2"
      },
      "source": [
        "## **Migrasi data menjadi satu tempat**"
      ]
    },
    {
      "cell_type": "code",
      "metadata": {
        "colab": {
          "base_uri": "https://localhost:8080/"
        },
        "id": "LmxIkGaPtaxx",
        "outputId": "b3208564-398d-4332-ad3a-296f8faa6dc2"
      },
      "source": [
        "%cd /content/gdrive/MyDrive/datasett/OIDv4_ToolKit/OID/Dataset/train/Car/\n",
        "%cp *.jpg /content/gdrive/MyDrive/datasett/data_train"
      ],
      "execution_count": null,
      "outputs": [
        {
          "output_type": "stream",
          "text": [
            "/content/gdrive/MyDrive/datasett/OIDv4_ToolKit/OID/Dataset/train/Car\n"
          ],
          "name": "stdout"
        }
      ]
    },
    {
      "cell_type": "code",
      "metadata": {
        "colab": {
          "base_uri": "https://localhost:8080/"
        },
        "id": "ytA91k8htxPU",
        "outputId": "f20cd283-8108-4fe2-b8b4-c28ac4660988"
      },
      "source": [
        "%cd /content/gdrive/MyDrive/datasett/OIDv4_ToolKit/OID/Dataset/train/Person/\n",
        "%cp *.jpg /content/gdrive/MyDrive/datasett/data_train"
      ],
      "execution_count": null,
      "outputs": [
        {
          "output_type": "stream",
          "text": [
            "/content/gdrive/MyDrive/datasett/OIDv4_ToolKit/OID/Dataset/train/Person\n"
          ],
          "name": "stdout"
        }
      ]
    },
    {
      "cell_type": "code",
      "metadata": {
        "colab": {
          "base_uri": "https://localhost:8080/"
        },
        "id": "4LX_lTWqt7Mm",
        "outputId": "3d7abc96-df75-4d2f-ed35-f6b2a3408d4c"
      },
      "source": [
        "%cd /content/gdrive/MyDrive/datasett/OIDv4_ToolKit/OID/Dataset/train/Motorcycle/\n",
        "%cp *.jpg /content/gdrive/MyDrive/datasett/data_train"
      ],
      "execution_count": null,
      "outputs": [
        {
          "output_type": "stream",
          "text": [
            "/content/gdrive/MyDrive/datasett/OIDv4_ToolKit/OID/Dataset/train/Motorcycle\n"
          ],
          "name": "stdout"
        }
      ]
    },
    {
      "cell_type": "code",
      "metadata": {
        "colab": {
          "base_uri": "https://localhost:8080/"
        },
        "id": "hILkAP3Qt_Vk",
        "outputId": "2be2633c-9aa9-409b-d7e4-cd6e9600b74e"
      },
      "source": [
        "%cd .."
      ],
      "execution_count": null,
      "outputs": [
        {
          "output_type": "stream",
          "text": [
            "/content/gdrive/MyDrive/datasett/OIDv4_ToolKit/OID/Dataset/train\n"
          ],
          "name": "stdout"
        }
      ]
    },
    {
      "cell_type": "code",
      "metadata": {
        "colab": {
          "base_uri": "https://localhost:8080/"
        },
        "id": "mRQeWRhB1kK3",
        "outputId": "4ae444bd-40c7-400f-ff0a-6085d6345514"
      },
      "source": [
        "%cd /content/gdrive/MyDrive/datasett/OIDv4_to_VOC"
      ],
      "execution_count": null,
      "outputs": [
        {
          "output_type": "stream",
          "text": [
            "/content/gdrive/MyDrive/datasett/OIDv4_to_VOC\n"
          ],
          "name": "stdout"
        }
      ]
    },
    {
      "cell_type": "code",
      "metadata": {
        "id": "7eJG3jWP1ovu"
      },
      "source": [
        "!python3 OIDv4_to_VOC.py --sourcepath /content/gdrive/MyDrive/datasett/OIDv4_ToolKit/OID/Dataset/train/Car --dest_path /content/gdrive/MyDrive/datasett/new_data_train"
      ],
      "execution_count": null,
      "outputs": []
    },
    {
      "cell_type": "code",
      "metadata": {
        "id": "FmyOBl961tiS"
      },
      "source": [
        "!python3 OIDv4_to_VOC.py --sourcepath /content/gdrive/MyDrive/datasett/OIDv4_ToolKit/OID/Dataset/train/Person --dest_path /content/gdrive/MyDrive/datasett/new_data_train"
      ],
      "execution_count": null,
      "outputs": []
    },
    {
      "cell_type": "code",
      "metadata": {
        "id": "71gG9-rO1xX2"
      },
      "source": [
        "!python3 OIDv4_to_VOC.py --sourcepath /content/gdrive/MyDrive/datasett/OIDv4_ToolKit/OID/Dataset/train/Motorcycle --dest_path /content/gdrive/MyDrive/datasett/new_data_train"
      ],
      "execution_count": null,
      "outputs": []
    },
    {
      "cell_type": "code",
      "metadata": {
        "colab": {
          "base_uri": "https://localhost:8080/"
        },
        "id": "1tjhmsgA1zwc",
        "outputId": "5bb09406-5914-4351-fbbe-4490d194178f"
      },
      "source": [
        "%cd /content/gdrive/MyDrive/datasett/OIDv4_ToolKit/OID/Dataset/train"
      ],
      "execution_count": null,
      "outputs": [
        {
          "output_type": "stream",
          "text": [
            "/content/gdrive/MyDrive/datasett/OIDv4_ToolKit/OID/Dataset/train\n"
          ],
          "name": "stdout"
        }
      ]
    },
    {
      "cell_type": "code",
      "metadata": {
        "colab": {
          "base_uri": "https://localhost:8080/"
        },
        "id": "UgT8H3et17js",
        "outputId": "35d91cce-76f7-43e6-c7ff-708c5685be7d"
      },
      "source": [
        "%cd /content/gdrive/MyDrive/datasett/OIDv4_ToolKit/OID/Dataset/train/Car/\n",
        "%cp *.jpg /content/gdrive/MyDrive/datasett/new_data_train"
      ],
      "execution_count": null,
      "outputs": [
        {
          "output_type": "stream",
          "text": [
            "/content/gdrive/MyDrive/datasett/OIDv4_ToolKit/OID/Dataset/train/Car\n"
          ],
          "name": "stdout"
        }
      ]
    },
    {
      "cell_type": "code",
      "metadata": {
        "colab": {
          "base_uri": "https://localhost:8080/"
        },
        "id": "xrSywNA-2AvI",
        "outputId": "b2e5ddf4-137f-4dbc-ade5-0a6f489c1b9d"
      },
      "source": [
        "%cd /content/gdrive/MyDrive/datasett/OIDv4_ToolKit/OID/Dataset/train/Person/\n",
        "%cp *.jpg /content/gdrive/MyDrive/datasett/new_data_train"
      ],
      "execution_count": null,
      "outputs": [
        {
          "output_type": "stream",
          "text": [
            "/content/gdrive/MyDrive/datasett/OIDv4_ToolKit/OID/Dataset/train/Person\n"
          ],
          "name": "stdout"
        }
      ]
    },
    {
      "cell_type": "code",
      "metadata": {
        "colab": {
          "base_uri": "https://localhost:8080/"
        },
        "id": "bzNruNWE2D_z",
        "outputId": "9f488572-95f6-4335-a591-92542d9f906c"
      },
      "source": [
        "%cd /content/gdrive/MyDrive/datasett/OIDv4_ToolKit/OID/Dataset/train/Motorcycle/\n",
        "%cp *.jpg /content/gdrive/MyDrive/datasett/new_data_train"
      ],
      "execution_count": null,
      "outputs": [
        {
          "output_type": "stream",
          "text": [
            "/content/gdrive/MyDrive/datasett/OIDv4_ToolKit/OID/Dataset/train/Motorcycle\n"
          ],
          "name": "stdout"
        }
      ]
    },
    {
      "cell_type": "code",
      "metadata": {
        "colab": {
          "base_uri": "https://localhost:8080/"
        },
        "id": "_hPY0SGJ2Gsh",
        "outputId": "444a37ce-801d-40be-abd3-ef2e45af7f98"
      },
      "source": [
        "%cd /content/gdrive/MyDrive/datasett/OIDv4_ToolKit/OID/Dataset/test"
      ],
      "execution_count": null,
      "outputs": [
        {
          "output_type": "stream",
          "text": [
            "/content/gdrive/MyDrive/datasett/OIDv4_ToolKit/OID/Dataset/test\n"
          ],
          "name": "stdout"
        }
      ]
    },
    {
      "cell_type": "code",
      "metadata": {
        "colab": {
          "base_uri": "https://localhost:8080/"
        },
        "id": "jQebMFH82evw",
        "outputId": "6b3f25f7-98af-4f95-b95a-19ce3f027b7e"
      },
      "source": [
        "%cd /content/gdrive/MyDrive/datasett/OIDv4_to_VOC"
      ],
      "execution_count": null,
      "outputs": [
        {
          "output_type": "stream",
          "text": [
            "/content/gdrive/MyDrive/datasett/OIDv4_to_VOC\n"
          ],
          "name": "stdout"
        }
      ]
    },
    {
      "cell_type": "code",
      "metadata": {
        "colab": {
          "base_uri": "https://localhost:8080/"
        },
        "id": "mZfsAeJ72inC",
        "outputId": "f14867ee-2b7a-425b-ce74-023f4621110f"
      },
      "source": [
        "!python3 OIDv4_to_VOC.py --sourcepath /content/gdrive/MyDrive/datasett/OIDv4_ToolKit/OID/Dataset/test --dest_path /content/gdrive/MyDrive/datasett/new_data_test"
      ],
      "execution_count": null,
      "outputs": [
        {
          "output_type": "stream",
          "text": [
            "Traceback (most recent call last):\n",
            "  File \"OIDv4_to_VOC.py\", line 33, in <module>\n",
            "    f = open(txtfile,\"r\")\n",
            "FileNotFoundError: [Errno 2] No such file or directory: '/content/gdrive/MyDrive/datasett/OIDv4_ToolKit/OID/Dataset/test/Label/6b4ba950e3e6eaf9.txt'\n"
          ],
          "name": "stdout"
        }
      ]
    },
    {
      "cell_type": "code",
      "metadata": {
        "colab": {
          "base_uri": "https://localhost:8080/"
        },
        "id": "BEgZix1E24aN",
        "outputId": "672f0d1d-baab-4fb9-9af6-b81e7da8667c"
      },
      "source": [
        "%cd /content/gdrive/MyDrive/datasett/OIDv4_ToolKit/OID/Dataset/test"
      ],
      "execution_count": null,
      "outputs": [
        {
          "output_type": "stream",
          "text": [
            "/content/gdrive/MyDrive/datasett/OIDv4_ToolKit/OID/Dataset/test\n"
          ],
          "name": "stdout"
        }
      ]
    },
    {
      "cell_type": "code",
      "metadata": {
        "id": "fSKSxnyt29Sv"
      },
      "source": [
        "%mkdir Label"
      ],
      "execution_count": null,
      "outputs": []
    },
    {
      "cell_type": "code",
      "metadata": {
        "id": "aAjh15pA3APN"
      },
      "source": [
        "%mv *.txt /content/gdrive/MyDrive/datasett/OIDv4_ToolKit/OID/Dataset/test/Label"
      ],
      "execution_count": null,
      "outputs": []
    },
    {
      "cell_type": "code",
      "metadata": {
        "colab": {
          "base_uri": "https://localhost:8080/"
        },
        "id": "cY8AExx23UQU",
        "outputId": "581b2c58-ad55-4b57-985c-2294dc2a2057"
      },
      "source": [
        "%cd /content/gdrive/MyDrive/datasett/OIDv4_to_VOC"
      ],
      "execution_count": null,
      "outputs": [
        {
          "output_type": "stream",
          "text": [
            "/content/gdrive/MyDrive/datasett/OIDv4_to_VOC\n"
          ],
          "name": "stdout"
        }
      ]
    },
    {
      "cell_type": "code",
      "metadata": {
        "id": "LCUIJidm3W48"
      },
      "source": [
        "!python3 OIDv4_to_VOC.py --sourcepath /content/gdrive/MyDrive/datasett/OIDv4_ToolKit/OID/Dataset/test --dest_path /content/gdrive/MyDrive/datasett/new_data_test"
      ],
      "execution_count": null,
      "outputs": []
    },
    {
      "cell_type": "code",
      "metadata": {
        "colab": {
          "base_uri": "https://localhost:8080/"
        },
        "id": "zz3v_D-j3Yf-",
        "outputId": "cba9f072-dfd1-4f5e-b922-f52ac9e54335"
      },
      "source": [
        "%cd /content/gdrive/MyDrive/datasett/OIDv4_ToolKit/OID/Dataset/test/\n",
        "%cp *.jpg /content/gdrive/MyDrive/datasett/new_data_test"
      ],
      "execution_count": null,
      "outputs": [
        {
          "output_type": "stream",
          "text": [
            "/content/gdrive/MyDrive/datasett/OIDv4_ToolKit/OID/Dataset/test\n"
          ],
          "name": "stdout"
        }
      ]
    },
    {
      "cell_type": "code",
      "metadata": {
        "colab": {
          "base_uri": "https://localhost:8080/"
        },
        "id": "LVNNwNPn3hAo",
        "outputId": "36bf0a41-de32-4819-be92-c295de8ca501"
      },
      "source": [
        "%cd /content/gdrive/MyDrive/datasett"
      ],
      "execution_count": null,
      "outputs": [
        {
          "output_type": "stream",
          "text": [
            "/content/gdrive/MyDrive/datasett\n"
          ],
          "name": "stdout"
        }
      ]
    },
    {
      "cell_type": "code",
      "metadata": {
        "colab": {
          "base_uri": "https://localhost:8080/"
        },
        "id": "SjHEtLpJ4M1l",
        "outputId": "41df6be8-a922-471f-d989-fd84624d5570"
      },
      "source": [
        "%cd new_data_test/"
      ],
      "execution_count": null,
      "outputs": [
        {
          "output_type": "stream",
          "text": [
            "/content/gdrive/MyDrive/datasett/new_data_test\n"
          ],
          "name": "stdout"
        }
      ]
    },
    {
      "cell_type": "code",
      "metadata": {
        "id": "gVqWQO_M4TbQ"
      },
      "source": [
        "%cp * /content/gdrive/MyDrive/tensorflow1/models/research/object_detection/images/train"
      ],
      "execution_count": null,
      "outputs": []
    },
    {
      "cell_type": "code",
      "metadata": {
        "colab": {
          "base_uri": "https://localhost:8080/"
        },
        "id": "D3cJ4eWs44nn",
        "outputId": "7871893a-e496-4372-aa30-fb6a2a480fab"
      },
      "source": [
        "%cd .."
      ],
      "execution_count": null,
      "outputs": [
        {
          "output_type": "stream",
          "text": [
            "/content/gdrive/My Drive/datasett\n"
          ],
          "name": "stdout"
        }
      ]
    },
    {
      "cell_type": "code",
      "metadata": {
        "colab": {
          "base_uri": "https://localhost:8080/"
        },
        "id": "9eZxZBHx48sI",
        "outputId": "ad067906-a413-4c3b-bacd-d3e590e4c996"
      },
      "source": [
        "%cd new_data_train/"
      ],
      "execution_count": null,
      "outputs": [
        {
          "output_type": "stream",
          "text": [
            "/content/gdrive/MyDrive/datasett/new_data_train\n"
          ],
          "name": "stdout"
        }
      ]
    },
    {
      "cell_type": "code",
      "metadata": {
        "id": "59AWwmMJ4-dY"
      },
      "source": [
        "%cp * /content/gdrive/MyDrive/tensorflow1/models/research/object_detection/images/test"
      ],
      "execution_count": null,
      "outputs": []
    },
    {
      "cell_type": "code",
      "metadata": {
        "colab": {
          "base_uri": "https://localhost:8080/"
        },
        "id": "XtJTHlga5OTR",
        "outputId": "3dd40394-b93b-4212-d7df-12a955f39571"
      },
      "source": [
        "%cd /content/gdrive/MyDrive/tensorflow1/models/research/object_detection"
      ],
      "execution_count": null,
      "outputs": [
        {
          "output_type": "stream",
          "text": [
            "/content/gdrive/MyDrive/tensorflow1/models/research/object_detection\n"
          ],
          "name": "stdout"
        }
      ]
    },
    {
      "cell_type": "markdown",
      "metadata": {
        "id": "Dccy9rTkgHBJ"
      },
      "source": [
        "## **Create *.csv dari semua label baik train dan test**"
      ]
    },
    {
      "cell_type": "code",
      "metadata": {
        "colab": {
          "base_uri": "https://localhost:8080/"
        },
        "id": "eCQ4FNXd6sRk",
        "outputId": "ba73698d-e2b2-471f-eb0b-f5144726b63c"
      },
      "source": [
        "!python xml_to_csv.py"
      ],
      "execution_count": null,
      "outputs": [
        {
          "output_type": "stream",
          "text": [
            "Successfully converted xml to csv.\n",
            "Successfully converted xml to csv.\n"
          ],
          "name": "stdout"
        }
      ]
    },
    {
      "cell_type": "markdown",
      "metadata": {
        "id": "vEVsOwYDgY1u"
      },
      "source": [
        "Data sudah siap pakai"
      ]
    }
  ]
}